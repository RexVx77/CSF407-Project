{
 "cells": [
  {
   "cell_type": "code",
   "execution_count": 1,
   "metadata": {},
   "outputs": [],
   "source": [
    "import numpy as np\n",
    "import pandas as pd\n",
    "from scipy.spatial.distance import cdist\n",
    "from sklearn.neighbors import NearestNeighbors\n",
    "from sklearn.model_selection import train_test_split\n",
    "from sklearn.model_selection import train_test_split\n",
    "import pandas as pd\n",
    "import matplotlib.pyplot as plt\n",
    "import seaborn as sns\n",
    "from sklearn.metrics import confusion_matrix"
   ]
  },
  {
   "cell_type": "code",
   "execution_count": 2,
   "metadata": {},
   "outputs": [],
   "source": [
    "class lof_point_train:\n",
    "    def __init__(self,k):\n",
    "        self.k=k\n",
    "        self.d_border=None\n",
    "        self.neighborhood=None\n",
    "        self.d_reach=None\n",
    "        self.density=None\n",
    "        self.distances=None\n",
    "        self.indices=None\n",
    "        self.k_distances=None\n",
    "\n",
    "    def get_nbr_info(self,X):\n",
    "        nn=NearestNeighbors(n_neighbors=self.k+1,metric='euclidean')\n",
    "        nn.fit(X)\n",
    "        self.distances,self.indices=nn.kneighbors(X)\n",
    "        self.d_border=self.distances[:,-1]\n",
    "        self.neighborhood=self.indices[:,1:]\n",
    "        self.k_distances=self.distances[:,1:]\n",
    "        self.d_reach=np.maximum(self.distances[:,1:],self.k_distances[:,-1][:,np.newaxis])\n",
    "        self.density=1/np.mean(self.d_reach[:,:self.k],axis=1)"
   ]
  },
  {
   "cell_type": "code",
   "execution_count": 3,
   "metadata": {},
   "outputs": [],
   "source": [
    "def get_lof(k,X,y,model):\n",
    "    dist=np.linalg.norm(X-y,axis=1)\n",
    "    \n",
    "    indices = np.argsort(dist)[:k]\n",
    "    k_dist=dist[indices]\n",
    "    d_border=k_dist[-1]\n",
    "    d_reach=np.maximum(dist[indices],d_border)\n",
    "    density=1/(np.sum(d_reach)/k)\n",
    "    dissimilarity=(model.density[indices])/density\n",
    "    return np.mean(dissimilarity)"
   ]
  },
  {
   "cell_type": "markdown",
   "metadata": {},
   "source": [
    "Initialise the lof_point_train"
   ]
  },
  {
   "cell_type": "code",
   "execution_count": 4,
   "metadata": {},
   "outputs": [
    {
     "name": "stdout",
     "output_type": "stream",
     "text": [
      "(284807, 31)\n"
     ]
    },
    {
     "data": {
      "text/html": [
       "<div>\n",
       "<style scoped>\n",
       "    .dataframe tbody tr th:only-of-type {\n",
       "        vertical-align: middle;\n",
       "    }\n",
       "\n",
       "    .dataframe tbody tr th {\n",
       "        vertical-align: top;\n",
       "    }\n",
       "\n",
       "    .dataframe thead th {\n",
       "        text-align: right;\n",
       "    }\n",
       "</style>\n",
       "<table border=\"1\" class=\"dataframe\">\n",
       "  <thead>\n",
       "    <tr style=\"text-align: right;\">\n",
       "      <th></th>\n",
       "      <th>Time</th>\n",
       "      <th>V1</th>\n",
       "      <th>V2</th>\n",
       "      <th>V3</th>\n",
       "      <th>V4</th>\n",
       "      <th>V5</th>\n",
       "      <th>V6</th>\n",
       "      <th>V7</th>\n",
       "      <th>V8</th>\n",
       "      <th>V9</th>\n",
       "      <th>...</th>\n",
       "      <th>V21</th>\n",
       "      <th>V22</th>\n",
       "      <th>V23</th>\n",
       "      <th>V24</th>\n",
       "      <th>V25</th>\n",
       "      <th>V26</th>\n",
       "      <th>V27</th>\n",
       "      <th>V28</th>\n",
       "      <th>Amount</th>\n",
       "      <th>Class</th>\n",
       "    </tr>\n",
       "  </thead>\n",
       "  <tbody>\n",
       "    <tr>\n",
       "      <th>0</th>\n",
       "      <td>0.0</td>\n",
       "      <td>-1.359807</td>\n",
       "      <td>-0.072781</td>\n",
       "      <td>2.536347</td>\n",
       "      <td>1.378155</td>\n",
       "      <td>-0.338321</td>\n",
       "      <td>0.462388</td>\n",
       "      <td>0.239599</td>\n",
       "      <td>0.098698</td>\n",
       "      <td>0.363787</td>\n",
       "      <td>...</td>\n",
       "      <td>-0.018307</td>\n",
       "      <td>0.277838</td>\n",
       "      <td>-0.110474</td>\n",
       "      <td>0.066928</td>\n",
       "      <td>0.128539</td>\n",
       "      <td>-0.189115</td>\n",
       "      <td>0.133558</td>\n",
       "      <td>-0.021053</td>\n",
       "      <td>149.62</td>\n",
       "      <td>0</td>\n",
       "    </tr>\n",
       "    <tr>\n",
       "      <th>1</th>\n",
       "      <td>0.0</td>\n",
       "      <td>1.191857</td>\n",
       "      <td>0.266151</td>\n",
       "      <td>0.166480</td>\n",
       "      <td>0.448154</td>\n",
       "      <td>0.060018</td>\n",
       "      <td>-0.082361</td>\n",
       "      <td>-0.078803</td>\n",
       "      <td>0.085102</td>\n",
       "      <td>-0.255425</td>\n",
       "      <td>...</td>\n",
       "      <td>-0.225775</td>\n",
       "      <td>-0.638672</td>\n",
       "      <td>0.101288</td>\n",
       "      <td>-0.339846</td>\n",
       "      <td>0.167170</td>\n",
       "      <td>0.125895</td>\n",
       "      <td>-0.008983</td>\n",
       "      <td>0.014724</td>\n",
       "      <td>2.69</td>\n",
       "      <td>0</td>\n",
       "    </tr>\n",
       "    <tr>\n",
       "      <th>2</th>\n",
       "      <td>1.0</td>\n",
       "      <td>-1.358354</td>\n",
       "      <td>-1.340163</td>\n",
       "      <td>1.773209</td>\n",
       "      <td>0.379780</td>\n",
       "      <td>-0.503198</td>\n",
       "      <td>1.800499</td>\n",
       "      <td>0.791461</td>\n",
       "      <td>0.247676</td>\n",
       "      <td>-1.514654</td>\n",
       "      <td>...</td>\n",
       "      <td>0.247998</td>\n",
       "      <td>0.771679</td>\n",
       "      <td>0.909412</td>\n",
       "      <td>-0.689281</td>\n",
       "      <td>-0.327642</td>\n",
       "      <td>-0.139097</td>\n",
       "      <td>-0.055353</td>\n",
       "      <td>-0.059752</td>\n",
       "      <td>378.66</td>\n",
       "      <td>0</td>\n",
       "    </tr>\n",
       "    <tr>\n",
       "      <th>3</th>\n",
       "      <td>1.0</td>\n",
       "      <td>-0.966272</td>\n",
       "      <td>-0.185226</td>\n",
       "      <td>1.792993</td>\n",
       "      <td>-0.863291</td>\n",
       "      <td>-0.010309</td>\n",
       "      <td>1.247203</td>\n",
       "      <td>0.237609</td>\n",
       "      <td>0.377436</td>\n",
       "      <td>-1.387024</td>\n",
       "      <td>...</td>\n",
       "      <td>-0.108300</td>\n",
       "      <td>0.005274</td>\n",
       "      <td>-0.190321</td>\n",
       "      <td>-1.175575</td>\n",
       "      <td>0.647376</td>\n",
       "      <td>-0.221929</td>\n",
       "      <td>0.062723</td>\n",
       "      <td>0.061458</td>\n",
       "      <td>123.50</td>\n",
       "      <td>0</td>\n",
       "    </tr>\n",
       "    <tr>\n",
       "      <th>4</th>\n",
       "      <td>2.0</td>\n",
       "      <td>-1.158233</td>\n",
       "      <td>0.877737</td>\n",
       "      <td>1.548718</td>\n",
       "      <td>0.403034</td>\n",
       "      <td>-0.407193</td>\n",
       "      <td>0.095921</td>\n",
       "      <td>0.592941</td>\n",
       "      <td>-0.270533</td>\n",
       "      <td>0.817739</td>\n",
       "      <td>...</td>\n",
       "      <td>-0.009431</td>\n",
       "      <td>0.798278</td>\n",
       "      <td>-0.137458</td>\n",
       "      <td>0.141267</td>\n",
       "      <td>-0.206010</td>\n",
       "      <td>0.502292</td>\n",
       "      <td>0.219422</td>\n",
       "      <td>0.215153</td>\n",
       "      <td>69.99</td>\n",
       "      <td>0</td>\n",
       "    </tr>\n",
       "  </tbody>\n",
       "</table>\n",
       "<p>5 rows × 31 columns</p>\n",
       "</div>"
      ],
      "text/plain": [
       "   Time        V1        V2        V3        V4        V5        V6        V7  \\\n",
       "0   0.0 -1.359807 -0.072781  2.536347  1.378155 -0.338321  0.462388  0.239599   \n",
       "1   0.0  1.191857  0.266151  0.166480  0.448154  0.060018 -0.082361 -0.078803   \n",
       "2   1.0 -1.358354 -1.340163  1.773209  0.379780 -0.503198  1.800499  0.791461   \n",
       "3   1.0 -0.966272 -0.185226  1.792993 -0.863291 -0.010309  1.247203  0.237609   \n",
       "4   2.0 -1.158233  0.877737  1.548718  0.403034 -0.407193  0.095921  0.592941   \n",
       "\n",
       "         V8        V9  ...       V21       V22       V23       V24       V25  \\\n",
       "0  0.098698  0.363787  ... -0.018307  0.277838 -0.110474  0.066928  0.128539   \n",
       "1  0.085102 -0.255425  ... -0.225775 -0.638672  0.101288 -0.339846  0.167170   \n",
       "2  0.247676 -1.514654  ...  0.247998  0.771679  0.909412 -0.689281 -0.327642   \n",
       "3  0.377436 -1.387024  ... -0.108300  0.005274 -0.190321 -1.175575  0.647376   \n",
       "4 -0.270533  0.817739  ... -0.009431  0.798278 -0.137458  0.141267 -0.206010   \n",
       "\n",
       "        V26       V27       V28  Amount  Class  \n",
       "0 -0.189115  0.133558 -0.021053  149.62      0  \n",
       "1  0.125895 -0.008983  0.014724    2.69      0  \n",
       "2 -0.139097 -0.055353 -0.059752  378.66      0  \n",
       "3 -0.221929  0.062723  0.061458  123.50      0  \n",
       "4  0.502292  0.219422  0.215153   69.99      0  \n",
       "\n",
       "[5 rows x 31 columns]"
      ]
     },
     "execution_count": 4,
     "metadata": {},
     "output_type": "execute_result"
    }
   ],
   "source": [
    "df = pd.read_csv('creditcard.csv')\n",
    "print(df.shape)\n",
    "df.head()"
   ]
  },
  {
   "cell_type": "code",
   "execution_count": 5,
   "metadata": {},
   "outputs": [
    {
     "name": "stdout",
     "output_type": "stream",
     "text": [
      "Clean Samples: 284315, Fraud Samples: 492\n",
      "Train Samples: 283823\n",
      "Test Samples: 984\n"
     ]
    }
   ],
   "source": [
    "seed = 1337\n",
    "\n",
    "def get_data(df, clean_train=True):\n",
    "   \n",
    "    clean = df[df.Class == 0].copy().reset_index(drop=True)\n",
    "    fraud = df[df.Class == 1].copy().reset_index(drop=True)\n",
    "    print(f'Clean Samples: {len(clean)}, Fraud Samples: {len(fraud)}')\n",
    "\n",
    "    if clean_train:\n",
    "        train, test_clean = train_test_split(clean, test_size=len(fraud), random_state=seed)\n",
    "        print(f'Train Samples: {len(train)}')\n",
    "\n",
    "        test = pd.concat([test_clean, fraud]).reset_index(drop=True)\n",
    "\n",
    "        print(f'Test Samples: {len(test)}')\n",
    "\n",
    "        # shuffle the test data\n",
    "        test.sample(frac=1, random_state=seed).reset_index(drop=True)\n",
    "        \n",
    "        train_X, train_y = train.loc[:, ~train.columns.isin(['Class'])], train.loc[:, train.columns.isin(['Class'])]\n",
    "        test_X, test_y = test.loc[:, ~test.columns.isin(['Class'])], test.loc[:, test.columns.isin(['Class'])]\n",
    "    else:\n",
    "        clean_train, clean_test = train_test_split(clean, test_size=int(len(fraud)+(len(fraud)*0.9)), random_state=seed)\n",
    "        fraud_train, fraud_test = train_test_split(fraud, test_size=int(len(fraud)*0.1), random_state=seed)\n",
    "        \n",
    "        train_samples = pd.concat([clean_train, fraud_train]).reset_index(drop=True)\n",
    "        test_samples = pd.concat([clean_test, fraud_test]).reset_index(drop=True)\n",
    "        \n",
    "        # shuffle\n",
    "        train_samples.sample(frac=1, random_state=seed).reset_index(drop=True)\n",
    "        \n",
    "        print(f'Train Samples: {len(train_samples)}')\n",
    "        test_samples.sample(frac=1, random_state=seed).reset_index(drop=True)\n",
    "        \n",
    "        print(f'Test Samples: {len(test_samples)}')\n",
    "        train_X, train_y = train_samples.loc[:, ~train_samples.columns.isin(['Class'])], train_samples.loc[:, train_samples.columns.isin(['Class'])]\n",
    "        test_X, test_y = test_samples.loc[:, ~test_samples.columns.isin(['Class'])], test_samples.loc[:, test_samples.columns.isin(['Class'])]\n",
    "    \n",
    "    return train_X, train_y, test_X, test_y\n",
    "\n",
    "train_X, train_y, test_X, test_y = get_data(df,clean_train=True)"
   ]
  },
  {
   "cell_type": "code",
   "execution_count": 6,
   "metadata": {},
   "outputs": [
    {
     "name": "stdout",
     "output_type": "stream",
     "text": [
      "Clean Samples: 284315, Fraud Samples: 492\n",
      "Train Samples: 283823\n",
      "Test Samples: 984\n"
     ]
    }
   ],
   "source": [
    "seed = 1337\n",
    "\n",
    "def get_data(df, clean_train=True):\n",
    "   \n",
    "    clean = df[df.Class == 0].copy().reset_index(drop=True)\n",
    "    fraud = df[df.Class == 1].copy().reset_index(drop=True)\n",
    "    print(f'Clean Samples: {len(clean)}, Fraud Samples: {len(fraud)}')\n",
    "\n",
    "    if clean_train:\n",
    "        train, test_clean = train_test_split(clean, test_size=len(fraud), random_state=seed)\n",
    "        print(f'Train Samples: {len(train)}')\n",
    "\n",
    "        test = pd.concat([test_clean, fraud]).reset_index(drop=True)\n",
    "\n",
    "        print(f'Test Samples: {len(test)}')\n",
    "\n",
    "        # shuffle the test data\n",
    "        test.sample(frac=1, random_state=seed).reset_index(drop=True)\n",
    "        \n",
    "        train_X, train_y = train.loc[:, ~train.columns.isin(['Class'])], train.loc[:, train.columns.isin(['Class'])]\n",
    "        test_X, test_y = test.loc[:, ~test.columns.isin(['Class'])], test.loc[:, test.columns.isin(['Class'])]\n",
    "    else:\n",
    "        clean_train, clean_test = train_test_split(clean, test_size=int(len(fraud)+(len(fraud)*0.9)), random_state=seed)\n",
    "        fraud_train, fraud_test = train_test_split(fraud, test_size=int(len(fraud)*0.1), random_state=seed)\n",
    "        \n",
    "        train_samples = pd.concat([clean_train, fraud_train]).reset_index(drop=True)\n",
    "        test_samples = pd.concat([clean_test, fraud_test]).reset_index(drop=True)\n",
    "        \n",
    "        # shuffle\n",
    "        train_samples.sample(frac=1, random_state=seed).reset_index(drop=True)\n",
    "        \n",
    "        print(f'Train Samples: {len(train_samples)}')\n",
    "        test_samples.sample(frac=1, random_state=seed).reset_index(drop=True)\n",
    "        \n",
    "        print(f'Test Samples: {len(test_samples)}')\n",
    "        train_X, train_y = train_samples.loc[:, ~train_samples.columns.isin(['Class'])], train_samples.loc[:, train_samples.columns.isin(['Class'])]\n",
    "        test_X, test_y = test_samples.loc[:, ~test_samples.columns.isin(['Class'])], test_samples.loc[:, test_samples.columns.isin(['Class'])]\n",
    "    \n",
    "    return train_X, train_y, test_X, test_y\n",
    "\n",
    "train_X, train_y, test_X, test_y = get_data(df,clean_train=True)"
   ]
  },
  {
   "cell_type": "code",
   "execution_count": 7,
   "metadata": {},
   "outputs": [
    {
     "name": "stdout",
     "output_type": "stream",
     "text": [
      "(283823, 30)\n"
     ]
    }
   ],
   "source": [
    "print(train_X.shape)"
   ]
  },
  {
   "cell_type": "code",
   "execution_count": 8,
   "metadata": {},
   "outputs": [
    {
     "name": "stdout",
     "output_type": "stream",
     "text": [
      "(283823, 1)\n"
     ]
    }
   ],
   "source": [
    "print(train_y.shape)"
   ]
  },
  {
   "cell_type": "code",
   "execution_count": 9,
   "metadata": {},
   "outputs": [],
   "source": [
    "model=lof_point_train(k=100)\n",
    "model.get_nbr_info(train_X)\n"
   ]
  },
  {
   "cell_type": "code",
   "execution_count": 10,
   "metadata": {},
   "outputs": [
    {
     "name": "stdout",
     "output_type": "stream",
     "text": [
      "(283823,)\n"
     ]
    }
   ],
   "source": [
    "print(model.density.shape)"
   ]
  },
  {
   "cell_type": "code",
   "execution_count": 11,
   "metadata": {},
   "outputs": [],
   "source": [
    "lof_array=[]\n",
    "for x in test_X.values:\n",
    "    lof_array.append(get_lof(k=100,X=train_X.values,y=x,model=model))\n",
    "    \n",
    "    "
   ]
  },
  {
   "cell_type": "code",
   "execution_count": 12,
   "metadata": {},
   "outputs": [],
   "source": [
    "# print(lof_array)"
   ]
  },
  {
   "cell_type": "code",
   "execution_count": 13,
   "metadata": {},
   "outputs": [],
   "source": [
    "sorted_indices = np.argsort(lof_array)\n",
    "lof_array=np.array(lof_array)\n",
    "\n",
    "sorted_values = lof_array[sorted_indices]\n",
    "sorted_tags = test_y.iloc[sorted_indices]\n",
    "pd.set_option('display.max_rows', None)\n",
    "# print(sorted_tags)\n"
   ]
  },
  {
   "cell_type": "code",
   "execution_count": 14,
   "metadata": {},
   "outputs": [],
   "source": [
    "#defining threshold=1.022706367005985\n",
    "threshold=1.022706367005985\n",
    "y_pred=np.ones(len(lof_array))\n",
    "for i in range(len(lof_array)):\n",
    "    if(lof_array[i]>threshold):\n",
    "        y_pred[i]=1\n",
    "    else:\n",
    "        y_pred[i]=0\n",
    "\n",
    "TP=0\n",
    "TN=0\n",
    "FP=0\n",
    "FN=0\n",
    "\n",
    "for i in range(y_pred.shape[0]):\n",
    "    if y_pred[i]==test_y.iloc[i].values and y_pred[i]==1:\n",
    "        TN=TN+1\n",
    "    elif y_pred[i]==test_y.iloc[i].values and y_pred[i]==0:\n",
    "        TP=TP+1\n",
    "    elif y_pred[i]!=test_y.iloc[i].values and y_pred[i]==0:\n",
    "        FP=FP+1\n",
    "    else:\n",
    "        FN=FN+1\n"
   ]
  },
  {
   "cell_type": "code",
   "execution_count": 15,
   "metadata": {},
   "outputs": [
    {
     "data": {
      "image/png": "[encoded data removed]",
      "text/plain": [
       "<Figure size 800x600 with 2 Axes>"
      ]
     },
     "metadata": {},
     "output_type": "display_data"
    }
   ],
   "source": [
    "conf_matrix = np.array([[TP, FP],\n",
    "                        [FN, TN]])\n",
    "\n",
    "\n",
    "plt.figure(figsize=(8, 6))\n",
    "sns.heatmap(conf_matrix, annot=True, fmt=\"d\", cmap=\"Blues\", \n",
    "            xticklabels=['Positive', 'Negative'], \n",
    "            yticklabels=['Positive', 'Negative'])\n",
    "plt.title('Confusion Matrix')\n",
    "plt.xlabel('Predicted Label')\n",
    "plt.ylabel('True Label')\n",
    "plt.show()\n"
   ]
  },
  {
   "cell_type": "code",
   "execution_count": 16,
   "metadata": {},
   "outputs": [
    {
     "name": "stdout",
     "output_type": "stream",
     "text": [
      "Precision: 0.7885906040268457\n",
      "Recall: 0.47764227642276424\n",
      "F1_Score: 0.5949367088607594\n",
      "Accuracy: 0.6747967479674797\n"
     ]
    }
   ],
   "source": [
    "print(\"Precision:\", TP/(TP+FP))\n",
    "print(\"Recall:\", TP/(TP+FN))\n",
    "print(\"F1_Score:\", (2*TP)/((2*TP)+FP+FN))\n",
    "print(\"Accuracy:\", (TP+TN)/(TP+TN+FP+FN))"
   ]
  }
 ],
 "metadata": {
  "kernelspec": {
   "display_name": "Python 3 (ipykernel)",
   "language": "python",
   "name": "python3"
  },
  "language_info": {
   "codemirror_mode": {
    "name": "ipython",
    "version": 3
   },
   "file_extension": ".py",
   "mimetype": "text/x-python",
   "name": "python",
   "nbconvert_exporter": "python",
   "pygments_lexer": "ipython3",
   "version": "3.13.2"
  }
 },
 "nbformat": 4,
 "nbformat_minor": 4
}
